{
 "cells": [
  {
   "cell_type": "code",
   "execution_count": 1,
   "metadata": {},
   "outputs": [],
   "source": [
    "import os\n",
    "import math\n",
    "import pandas as pd\n",
    "import numpy as np\n",
    "import matplotlib.pyplot as plt\n",
    "\n",
    "from sklearn.metrics import mean_squared_error, r2_score\n",
    "from sklearn.linear_model import LinearRegression\n",
    "\n",
    "MYPATH = 'E:/OSIC-Pul/'"
   ]
  },
  {
   "cell_type": "code",
   "execution_count": 2,
   "metadata": {},
   "outputs": [],
   "source": [
    "def laplace_log_likelihood(y_true, y_pred, sigma):\n",
    "    sigma_clipped = np.maximum(sigma, 70)\n",
    "    delta_clipped = np.minimum(np.abs(y_true - y_pred), 1000)\n",
    "    score = - np.sqrt(2) * delta_clipped / sigma_clipped - np.log(np.sqrt(2) * sigma_clipped)\n",
    "    return np.mean(score)"
   ]
  },
  {
   "cell_type": "code",
   "execution_count": 5,
   "metadata": {},
   "outputs": [],
   "source": [
    "trainData = pd.read_csv(MYPATH + 'train.csv')\n",
    "\n",
    "# Encode categorical data to numerical\n",
    "encoder = {\"Sex\": {\"Male\": 0, \"Female\": 1},\n",
    "           \"SmokingStatus\": {\"Never smoked\": 0, \"Ex-smoker\": 0.5, \"Currently smokes\": 1}}\n",
    "trainData.replace(encoder, inplace=True)"
   ]
  },
  {
   "cell_type": "code",
   "execution_count": 6,
   "metadata": {},
   "outputs": [
    {
     "name": "stdout",
     "output_type": "stream",
     "text": [
      "                        Patient Weeks   FVC    Percent Age Sex  SmokingStatus  \\\n",
      "0     ID00007637202177411956430    -4  2315  58.253649  79   0            0.5   \n",
      "1     ID00007637202177411956430     5  2214  55.712129  79   0            0.5   \n",
      "2     ID00007637202177411956430     7  2061  51.862104  79   0            0.5   \n",
      "3     ID00007637202177411956430     9  2144  53.950679  79   0            0.5   \n",
      "4     ID00007637202177411956430    11  2069  52.063412  79   0            0.5   \n",
      "...                         ...   ...   ...        ...  ..  ..            ...   \n",
      "1544  ID00426637202313170790466    13  2712  66.594637  73   0            0.0   \n",
      "1545  ID00426637202313170790466    19  2978  73.126412  73   0            0.0   \n",
      "1546  ID00426637202313170790466    31  2908  71.407524  73   0            0.0   \n",
      "1547  ID00426637202313170790466    43  2975  73.052745  73   0            0.0   \n",
      "1548  ID00426637202313170790466    59  2774  68.117081  73   0            0.0   \n",
      "\n",
      "                      Patient_Week  Baseline_FVC  Weeks_Since  \n",
      "0     ID00007637202177411956430_-4        2315.0          0.0  \n",
      "1      ID00007637202177411956430_5        2315.0          9.0  \n",
      "2      ID00007637202177411956430_7        2315.0         11.0  \n",
      "3      ID00007637202177411956430_9        2315.0         13.0  \n",
      "4     ID00007637202177411956430_11        2315.0         15.0  \n",
      "...                            ...           ...          ...  \n",
      "1544  ID00426637202313170790466_13        2925.0         13.0  \n",
      "1545  ID00426637202313170790466_19        2925.0         19.0  \n",
      "1546  ID00426637202313170790466_31        2925.0         31.0  \n",
      "1547  ID00426637202313170790466_43        2925.0         43.0  \n",
      "1548  ID00426637202313170790466_59        2925.0         59.0  \n",
      "\n",
      "[1549 rows x 10 columns]\n"
     ]
    }
   ],
   "source": [
    "# For each FVC measurement, add a column with the patient's baseline FVC\n",
    "# and when the measurement was taken in relation to the baseline\n",
    "trainData['Patient_Week'] = trainData['Patient'] + '_' + trainData['Weeks'].astype(str)\n",
    "patients = trainData.groupby(['Patient'])\n",
    "\n",
    "trainData = pd.DataFrame(columns=trainData.columns)\n",
    "trainData['Baseline_FVC'] = []\n",
    "trainData['Weeks_Since'] = []\n",
    "for _, patient in patients:\n",
    "    patient.insert(len(patient.columns), 'Baseline_FVC', patient['FVC'].iloc[0])\n",
    "    patient.insert(len(patient.columns), 'Weeks_Since', patient['Weeks'] - patient['Weeks'].iloc[0])\n",
    "    trainData = trainData.append(patient)"
   ]
  },
  {
   "cell_type": "code",
   "execution_count": null,
   "metadata": {},
   "outputs": [],
   "source": [
    "# Use age, sex, smoking status and baseline FVC to predict FVC at a specific week\n",
    "X = trainData[['Age', 'Sex', 'SmokingStatus', 'Baseline_FVC', 'Weeks_Since']].to_numpy()\n",
    "Y = trainData[['FVC']].to_numpy().ravel()\n",
    "\n",
    "regr = LinearRegression()\n",
    "x_train = X\n",
    "y_train = Y\n",
    "regr.fit(x_train, y_train)\n",
    "\n",
    "# Predict FVC\n",
    "y_pred = regr.predict(x_train)\n",
    "\n",
    "# Predict Sigma using optimal sigma=sqrt(2)*delta\n",
    "deltas = math.sqrt(2)*abs(y_train - y_pred)\n",
    "\n",
    "# Values are exponentially distributed\n",
    "lambda_hat = np.mean(deltas)\n",
    "sigma_train = deltas\n",
    "regs = LinearRegression()\n",
    "regs.fit(x_train, sigma_train)\n",
    "sigma_pred = regs.predict(x_train)\n",
    "\n",
    "# Evaluate performance\n",
    "print('FVC MSE: %.2f'% mean_squared_error(y_train, y_pred))\n",
    "print('FVC R2: %.2f'% r2_score(y_train, y_pred))\n",
    "print('Sigma Coefs: \\n', regs.coef_)\n",
    "print('Sigma MSE: %.2f'% mean_squared_error(sigma_train, sigma_pred))\n",
    "print('Sigma R2: %.2f'% r2_score(sigma_train, sigma_pred))\n",
    "\n",
    "stdev = np.std(deltas)\n",
    "metric = []\n",
    "for i in range(len(y_pred)):\n",
    "    metric.append(laplace_log_likelihood(y_pred[i], y_train[i], sigma_pred[i]))\n",
    "\n",
    "print('toy metric: ' + np.mean(metric).astype(str))\n",
    "\n",
    "# Construct test input for Kaggle\n",
    "test = pd.read_csv(MYPATH + 'test.csv').rename(columns={\n",
    "        'FVC' : 'Baseline_FVC', 'Weeks' : 'Baseline_Weeks'})\n",
    "test.replace(encoder, inplace=True)\n",
    "\n",
    "submission = pd.read_csv(MYPATH + 'sample_submission.csv')\n",
    "submission['Patient'] = submission['Patient_Week'].apply(lambda x: x.split('_')[0])\n",
    "submission['Weeks'] = submission['Patient_Week'].apply(lambda x: x.split('_')[1]).astype(int)\n",
    "\n",
    "test = submission.merge(test, on='Patient')\n",
    "test['Weeks_Since'] = test['Weeks'] - test['Baseline_Weeks']\n",
    "\n",
    "# Perform prediction\n",
    "x_test = test[['Age', 'Sex', 'SmokingStatus', 'Baseline_FVC', 'Weeks_Since']].to_numpy()\n",
    "y_test = regr.predict(x_test)\n",
    "# Get confidence values\n",
    "sigma_test = regs.predict(x_test)\n",
    "\n",
    "test['FVC'] = y_test\n",
    "test['Confidence'] = sigma_test\n",
    "\n",
    "submission = test[['Patient_Week', 'FVC', 'Confidence']]\n",
    "\n",
    "submission.to_csv('submission.csv', index=False)\n"
   ]
  }
 ],
 "metadata": {
  "interpreter": {
   "hash": "ad7c061f41e62ad58a2369c2eaa17f79da8562900f85c1aa97032d6a17778abf"
  },
  "kernelspec": {
   "display_name": "Python 3.7.7 64-bit",
   "language": "python",
   "name": "python3"
  },
  "language_info": {
   "codemirror_mode": {
    "name": "ipython",
    "version": 3
   },
   "file_extension": ".py",
   "mimetype": "text/x-python",
   "name": "python",
   "nbconvert_exporter": "python",
   "pygments_lexer": "ipython3",
   "version": "3.7.7"
  },
  "orig_nbformat": 4
 },
 "nbformat": 4,
 "nbformat_minor": 2
}
